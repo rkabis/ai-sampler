{
 "cells": [
  {
   "cell_type": "markdown",
   "id": "8cedd6a2-0ee1-4011-a8f5-ee17febe4be2",
   "metadata": {
    "jp-MarkdownHeadingCollapsed": true
   },
   "source": [
    "### Shared Functions"
   ]
  },
  {
   "cell_type": "code",
   "execution_count": 1,
   "id": "d5663cab-4d66-4e19-9d8a-5996c73c251f",
   "metadata": {},
   "outputs": [],
   "source": [
    "def upper_nospace_string(s):\n",
    "    # Remove all spaces\n",
    "    s_no_spaces = s.replace(\" \", \"\")\n",
    "    # Convert all characters to uppercase\n",
    "    s_upper = s_no_spaces.upper()\n",
    "    return s_upper"
   ]
  },
  {
   "cell_type": "markdown",
   "id": "840d0adc-3eaa-47a9-910f-e0f4433747aa",
   "metadata": {
    "jp-MarkdownHeadingCollapsed": true
   },
   "source": [
    "### Prompt Engineering: Rule-based"
   ]
  },
  {
   "cell_type": "code",
   "execution_count": 2,
   "id": "c5889ea9-6165-47b6-b495-9b4e255e5744",
   "metadata": {
    "editable": true,
    "slideshow": {
     "slide_type": ""
    },
    "tags": []
   },
   "outputs": [],
   "source": [
    "import re\n",
    "\n",
    "\n",
    "def process_query_rules(query):\n",
    "    plate_number = None\n",
    "    location = None\n",
    "\n",
    "    # Define patterns to identify the type of query\n",
    "    patterns = {\n",
    "        \"current_location\": [\n",
    "            r\"where is vehicle ([A-Za-z0-9 ]+)?\\??\",\n",
    "            r\"what is the current location of vehicle ([A-Za-z0-9 ]+)?\\??\",\n",
    "            r\"location of vehicle ([A-Za-z0-9 ]+)?\\??\",\n",
    "            r\"current location of vehicle ([A-Za-z0-9 ]+)?\\??\",\n",
    "            r\"vehicle ([A-Za-z0-9 ]+) location\\??\",\n",
    "        ],\n",
    "        \"dispatch_time\": [\n",
    "            r\"what time was vehicle ([A-Za-z0-9 ]+)? dispatched (?:to|at|in|near) ([A-Za-z0-9 ]+)?\\??\",\n",
    "            r\"when was vehicle ([A-Za-z0-9 ]+)? dispatched (?:to|at|in|near) ([A-Za-z0-9 ]+)?\\??\",\n",
    "            r\"dispatch time of vehicle ([A-Za-z0-9 ]+)? (?:to|at|in|near) ([A-Za-z0-9 ]+)?\\??\",\n",
    "            r\"vehicle ([A-Za-z0-9 ]+)? dispatch time (?:to|at|in|near) ([A-Za-z0-9 ]+)?\\??\",\n",
    "        ],\n",
    "        \"arrival_time\": [\n",
    "            r\"what time did it arrive in the customer site\\??\",\n",
    "            r\"when did vehicle ([A-Za-z0-9 ]+)? arrive at the customer site\\??\",\n",
    "            r\"arrival time of vehicle ([A-Za-z0-9 ]+)? at customer site\\??\",\n",
    "            r\"vehicle ([A-Za-z0-9 ]+)? customer site arrival time\\??\",\n",
    "            r\"what time did vehicle ([A-Za-z0-9 ]+)? arrive (?:to|at|in|near) ([A-Za-z0-9 ]+)?\\??\",\n",
    "            r\"when did vehicle ([A-Za-z0-9 ]+)? arrive (?:to|at|in|near) ([A-Za-z0-9 ]+)?\\??\",\n",
    "            r\"arrival time of vehicle ([A-Za-z0-9 ]+)? (?:to|at|in|near) ([A-Za-z0-9 ]+)?\\??\",\n",
    "            r\"vehicle ([A-Za-z0-9 ]+)? (?:to|at|in|near) ([A-Za-z0-9 ]+) arrival time\\??\",\n",
    "        ],\n",
    "    }\n",
    "\n",
    "    for query_type, pattern_list in patterns.items():\n",
    "        for pattern in pattern_list:\n",
    "            match = re.search(pattern, query.lower())\n",
    "            if match:\n",
    "                groups = match.groups()\n",
    "                if len(groups) > 0 and groups[0]:\n",
    "                    plate_number = upper_nospace_string(groups[0].strip())\n",
    "                if len(groups) > 1 and groups[1]:\n",
    "                    location = groups[1].strip().upper()\n",
    "\n",
    "                return {\n",
    "                    \"plate_number\": plate_number,\n",
    "                    \"location\": location,\n",
    "                    \"query_type\": query_type,\n",
    "                }\n",
    "\n",
    "    return {\n",
    "        \"plate_number\": None,\n",
    "        \"location\": None,\n",
    "        \"query_type\": None,\n",
    "    }"
   ]
  },
  {
   "cell_type": "markdown",
   "id": "f4bb6ef3-efeb-4a0e-b260-747cb587336f",
   "metadata": {
    "jp-MarkdownHeadingCollapsed": true
   },
   "source": [
    "### Prompt Engineering: Use of LangChain"
   ]
  },
  {
   "cell_type": "code",
   "execution_count": 3,
   "id": "21d8cee4-66a3-4818-a7a0-b8214d2b0bf9",
   "metadata": {},
   "outputs": [
    {
     "name": "stderr",
     "output_type": "stream",
     "text": [
      "/Users/ryanabis/projects/ai-sampler/myenv/lib/python3.12/site-packages/langchain_core/_api/deprecation.py:139: LangChainDeprecationWarning: The class `OpenAI` was deprecated in LangChain 0.0.10 and will be removed in 0.3.0. An updated version of the class exists in the langchain-openai package and should be used instead. To use it run `pip install -U langchain-openai` and import as `from langchain_openai import OpenAI`.\n",
      "  warn_deprecated(\n",
      "/Users/ryanabis/projects/ai-sampler/myenv/lib/python3.12/site-packages/langchain_core/_api/deprecation.py:139: LangChainDeprecationWarning: The class `LLMChain` was deprecated in LangChain 0.1.17 and will be removed in 1.0. Use RunnableSequence, e.g., `prompt | llm` instead.\n",
      "  warn_deprecated(\n"
     ]
    }
   ],
   "source": [
    "import os\n",
    "\n",
    "from dotenv import load_dotenv\n",
    "from langchain.chains import LLMChain\n",
    "from langchain.llms import OpenAI\n",
    "from langchain.prompts import PromptTemplate\n",
    "\n",
    "load_dotenv()\n",
    "\n",
    "OPENAI_API_KEY = os.getenv(\"OPENAI_API_KEY\")\n",
    "\n",
    "# Initialize the language model\n",
    "llm = OpenAI(model_name=\"gpt-3.5-turbo-instruct\", api_key=OPENAI_API_KEY)\n",
    "\n",
    "# Define the prompt template\n",
    "prompt_template = \"\"\"\n",
    "You are an intelligent assistant for a logistics company. Categorize the query and extract relevant information such as the plate number.\n",
    "Plate number can be in the format ABC 1234 (3 letters followed by 4 numbers). Possible to not have space in between as well.\n",
    "Query category can be:\n",
    "1. current_location: asking where a vehicle is located\n",
    "2. dispatch_time: asking about what time a vehicle left a specified location\n",
    "3. arrival_time: asking about what time a vehicle arrived at a specific location\n",
    "Location is a string such as warehouse A. It can also be an ID such as 21.\n",
    "\n",
    "It is possible that the query asks about two vehicles or two locations. \n",
    "In those cases, return only the first instance identified.\n",
    "\n",
    "Query: {query}\n",
    "\n",
    "Format of Response:\n",
    "Query Type: (current_location, dispatch_time, arrival_time, unknown)\n",
    "Plate Number: (if not available, place None)\n",
    "Location: (if not available, place None)\n",
    "\"\"\"\n",
    "\n",
    "prompt = PromptTemplate(input_variables=[\"query\"], template=prompt_template)\n",
    "\n",
    "# Define the chain\n",
    "chain = LLMChain(prompt=prompt, llm=llm)\n",
    "\n",
    "\n",
    "# Define the function to process the query using LangChain\n",
    "def process_query_langchain(query):\n",
    "    response = chain.run({\"query\": query})\n",
    "\n",
    "    # Extract relevant details from the response\n",
    "    query_type = None\n",
    "    plate_number = None\n",
    "    location = None\n",
    "\n",
    "    # Parse the response\n",
    "    if \"Query Type:\" in response:\n",
    "        query_type_line = response.split(\"Query Type:\")[1].split(\"\\n\")[0].strip()\n",
    "        query_type = query_type_line.replace(\"(\", \"\").replace(\")\", \"\").strip()\n",
    "\n",
    "    if \"Plate Number:\" in response:\n",
    "        plate_number_line = response.split(\"Plate Number:\")[1].split(\"\\n\")[0].strip()\n",
    "        if plate_number_line == \"None\":\n",
    "            plate_number = None\n",
    "        else:\n",
    "            plate_number = upper_nospace_string(\n",
    "                plate_number_line.replace(\"(\", \"\").replace(\")\", \"\").strip()\n",
    "            )\n",
    "\n",
    "    if \"Location:\" in response:\n",
    "        location_line = response.split(\"Location:\")[1].split(\"\\n\")[0].strip()\n",
    "        if location_line == \"None\":\n",
    "            location = None\n",
    "        else:\n",
    "            location = location_line.replace(\"(\", \"\").replace(\")\", \"\").strip().upper()\n",
    "\n",
    "    return {\n",
    "        \"plate_number\": plate_number,\n",
    "        \"location\": location,\n",
    "        \"query_type\": query_type,\n",
    "    }"
   ]
  },
  {
   "cell_type": "markdown",
   "id": "92a84955-61f5-420d-9143-e6ae5a8b4989",
   "metadata": {
    "jp-MarkdownHeadingCollapsed": true
   },
   "source": [
    "### Retrieval-Augmented Generation (RAG): Retrieve info from Postgres"
   ]
  },
  {
   "cell_type": "code",
   "execution_count": 4,
   "id": "1e230c4c-99b6-4d95-9e2d-b395b7503106",
   "metadata": {},
   "outputs": [],
   "source": [
    "import os\n",
    "\n",
    "import pandas as pd\n",
    "from dotenv import load_dotenv\n",
    "from sqlalchemy import create_engine, text\n",
    "\n",
    "load_dotenv()\n",
    "\n",
    "POSTGRES_URI = os.getenv(\"POSTGRES_URI\")\n",
    "\n",
    "\n",
    "def is_vehicle_registered(plate_number):\n",
    "    engine = create_engine(POSTGRES_URI)\n",
    "    query = text(\n",
    "        \"\"\"\n",
    "        SELECT EXISTS (\n",
    "            SELECT 1\n",
    "            FROM vehicles\n",
    "            WHERE UPPER(platenumber) = :plate_number\n",
    "        )\n",
    "    \"\"\"\n",
    "    )\n",
    "\n",
    "    with engine.connect() as connection:\n",
    "        result = connection.execute(query, {\"plate_number\": plate_number})\n",
    "        exists = result.scalar()  # This will be True if the row exists, otherwise False\n",
    "\n",
    "    return exists\n",
    "\n",
    "\n",
    "def get_recent_vehicle_coordinates(plate_number):\n",
    "    engine = create_engine(POSTGRES_URI)\n",
    "    query = text(\n",
    "        \"\"\"\n",
    "        SELECT *\n",
    "        FROM movements\n",
    "        WHERE UPPER(platenumber) = :plate_number\n",
    "        ORDER BY createdAt desc\n",
    "        limit 50\n",
    "    \"\"\"\n",
    "    )\n",
    "\n",
    "    df = pd.read_sql_query(query, engine, params={\"plate_number\": plate_number})\n",
    "    engine.dispose()\n",
    "\n",
    "    return df\n",
    "\n",
    "\n",
    "def get_location_coordinates(location):\n",
    "    engine = create_engine(POSTGRES_URI)\n",
    "    query = text(\n",
    "        \"\"\"\n",
    "        SELECT coordinates\n",
    "        FROM locations\n",
    "        WHERE UPPER(name) = :location\n",
    "    \"\"\"\n",
    "    )\n",
    "\n",
    "    df = pd.read_sql_query(query, engine, params={\"location\": location})\n",
    "    engine.dispose()\n",
    "\n",
    "    return df"
   ]
  },
  {
   "cell_type": "code",
   "execution_count": 5,
   "id": "9af1496e-d44f-407d-b8c0-5d0a9ea267de",
   "metadata": {},
   "outputs": [],
   "source": [
    "def retrieve_db(processed_query):\n",
    "    plate_number = processed_query[\"plate_number\"]\n",
    "    location = processed_query[\"location\"]\n",
    "    query_type = processed_query[\"query_type\"]\n",
    "\n",
    "    location_coordinates = None\n",
    "    vehicle_coordinates = None\n",
    "\n",
    "    is_registered = is_vehicle_registered(plate_number)\n",
    "    if not is_registered:\n",
    "        return None\n",
    "\n",
    "    location_coordinates = get_location_coordinates(location)\n",
    "    vehicle_coordinates = get_recent_vehicle_coordinates(plate_number)\n",
    "\n",
    "    return {\n",
    "        \"vehicle_coordinates\": vehicle_coordinates,\n",
    "        \"location_coordinates\": location_coordinates,\n",
    "    }"
   ]
  },
  {
   "cell_type": "markdown",
   "id": "1b81eee0-d862-4700-b2b3-11fa09d2504a",
   "metadata": {},
   "source": [
    "### Generating Response with GPT3/4"
   ]
  },
  {
   "cell_type": "code",
   "execution_count": 6,
   "id": "2ea6c6c2-8ecb-412a-aeb8-0cf456b0ddc2",
   "metadata": {},
   "outputs": [],
   "source": [
    "def generate_response(query):\n",
    "    return query"
   ]
  },
  {
   "cell_type": "markdown",
   "id": "68366747-9dd3-4e59-8f86-3ee9b813b2c4",
   "metadata": {},
   "source": [
    "### Difference in Prompt Engineering"
   ]
  },
  {
   "cell_type": "code",
   "execution_count": 7,
   "id": "23b7d423-902c-4b16-b717-80f96ca4d526",
   "metadata": {},
   "outputs": [
    {
     "name": "stdout",
     "output_type": "stream",
     "text": [
      "0\n"
     ]
    },
    {
     "name": "stderr",
     "output_type": "stream",
     "text": [
      "/Users/ryanabis/projects/ai-sampler/myenv/lib/python3.12/site-packages/langchain_core/_api/deprecation.py:139: LangChainDeprecationWarning: The method `Chain.run` was deprecated in langchain 0.1.0 and will be removed in 0.3.0. Use invoke instead.\n",
      "  warn_deprecated(\n"
     ]
    },
    {
     "name": "stdout",
     "output_type": "stream",
     "text": [
      "AI: {'plate_number': 'ABC123', 'location': None, 'query_type': 'current_location'}\n",
      "RULES: {'plate_number': 'ABC123', 'location': None, 'query_type': 'current_location'}\n",
      "1\n",
      "AI: {'plate_number': 'ABC1234', 'location': None, 'query_type': 'current_location'}\n",
      "RULES: {'plate_number': 'ABC1234', 'location': None, 'query_type': 'current_location'}\n"
     ]
    }
   ],
   "source": [
    "# Example queries\n",
    "queries = [\n",
    "    \"Where is vehicle ABC 123?\",\n",
    "    \"What is the current location of vehicle ABC 1234?\",\n",
    "    # \"What time was vehicle ABC 123 dispatched from Location 1?\",\n",
    "    # \"What time did vehicle ABC123 arrive in Location 2?\",\n",
    "    # \"Where is it location?\",\n",
    "]\n",
    "\n",
    "for index, query in enumerate(queries):\n",
    "    print(index)\n",
    "    print(\"AI:\", process_query_langchain(query))\n",
    "    print(\"RULES:\", process_query_rules(query))"
   ]
  },
  {
   "cell_type": "markdown",
   "id": "5b7ecc90-bd6e-4eca-93b1-6e723d2c0554",
   "metadata": {},
   "source": [
    "### End-to-end Run"
   ]
  },
  {
   "cell_type": "code",
   "execution_count": 8,
   "id": "19b26857-347a-4ac8-b8c0-f98a58548d7a",
   "metadata": {},
   "outputs": [],
   "source": [
    "# Example queries\n",
    "queries = [\n",
    "    \"Where is vehicle ABC 123?\",\n",
    "    \"What is the current location of vehicle ABC 1234?\",\n",
    "    # \"What time was vehicle ABC 123 dispatched from Location 1?\",\n",
    "    # \"What time did vehicle ABC123 arrive in Location 2?\",\n",
    "    # \"Where is it location?\",\n",
    "]\n",
    "\n",
    "for index, query in enumerate(queries):\n",
    "    # processed_query = process_query_langchain(query)\n",
    "    # relevant_db = retrieve_db(processed_query)\n",
    "    response = generate_response(query)"
   ]
  },
  {
   "cell_type": "code",
   "execution_count": null,
   "id": "8a823c4b-b643-47fb-8479-478351e56c99",
   "metadata": {},
   "outputs": [],
   "source": []
  }
 ],
 "metadata": {
  "kernelspec": {
   "display_name": "Python 3 (ipykernel)",
   "language": "python",
   "name": "python3"
  },
  "language_info": {
   "codemirror_mode": {
    "name": "ipython",
    "version": 3
   },
   "file_extension": ".py",
   "mimetype": "text/x-python",
   "name": "python",
   "nbconvert_exporter": "python",
   "pygments_lexer": "ipython3",
   "version": "3.12.4"
  }
 },
 "nbformat": 4,
 "nbformat_minor": 5
}
