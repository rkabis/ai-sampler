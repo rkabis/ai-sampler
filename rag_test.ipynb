{
 "cells": [
  {
   "cell_type": "code",
   "execution_count": null,
   "id": "dd85beb8-dda4-4b87-a710-32179611e428",
   "metadata": {
    "editable": true,
    "slideshow": {
     "slide_type": ""
    },
    "tags": []
   },
   "outputs": [],
   "source": [
    "import os\n",
    "\n",
    "import pandas as pd\n",
    "from dotenv import load_dotenv\n",
    "from transformers import pipeline\n",
    "\n",
    "load_dotenv()\n",
    "\n",
    "OPENAI_API_KEY = os.getenv(\"OPENAI_API_KEY\")"
   ]
  },
  {
   "cell_type": "code",
   "execution_count": null,
   "id": "8a10cb9c-4d68-4117-8a61-eed797b21376",
   "metadata": {},
   "outputs": [],
   "source": [
    "from openai import OpenAI\n",
    "\n",
    "client = OpenAI(\n",
    "    api_key=OPENAI_API_KEY,\n",
    ")"
   ]
  },
  {
   "cell_type": "code",
   "execution_count": null,
   "id": "1af6d060-2034-4bc1-901b-567452f9031b",
   "metadata": {},
   "outputs": [],
   "source": [
    "MODEL = \"gpt-3.5-turbo\"\n",
    "response = client.chat.completions.create(\n",
    "    model=MODEL,\n",
    "    messages=[\n",
    "        {\"role\": \"system\", \"content\": \"You are a helpful assistant.\"},\n",
    "        {\"role\": \"user\", \"content\": \"Knock knock.\"},\n",
    "        {\"role\": \"assistant\", \"content\": \"Who's there?\"},\n",
    "        {\"role\": \"user\", \"content\": \"Orange.\"},\n",
    "    ],\n",
    "    temperature=0.7,\n",
    "    max_tokens=64,\n",
    "    top_p=1\n",
    ")\n",
    "response"
   ]
  },
  {
   "cell_type": "code",
   "execution_count": null,
   "id": "ccf238a1-8efc-454c-aa6e-0c25aa2647e0",
   "metadata": {},
   "outputs": [],
   "source": [
    "# custom dataset for RAG\n",
    "from transformers import DPRContextEncoder, DPRContextEncoderTokenizer\n",
    "\n",
    "# Load context encoder model and tokenizer\n",
    "context_encoder = DPRContextEncoder.from_pretrained(\"facebook/dpr-ctx_encoder-single-nq-base\")\n",
    "context_tokenizer = DPRContextEncoderTokenizer.from_pretrained(\"facebook/dpr-ctx_encoder-single-nq-base\")\n",
    "\n",
    "# Your documents\n",
    "documents = [\"Document 1 content...\", \"Document 2 content...\", \"Document 3 content...\"]\n",
    "\n",
    "# Tokenize and encode documents\n",
    "document_embeddings = []\n",
    "for doc in documents:\n",
    "    inputs = context_tokenizer(doc, return_tensors=\"pt\")\n",
    "    embeddings = context_encoder(**inputs).pooler_output\n",
    "    document_embeddings.append(embeddings)\n",
    "\n",
    "# Convert embeddings to a single tensor\n",
    "document_embeddings = torch.cat(document_embeddings)\n"
   ]
  }
 ],
 "metadata": {
  "kernelspec": {
   "display_name": "Python 3 (ipykernel)",
   "language": "python",
   "name": "python3"
  },
  "language_info": {
   "codemirror_mode": {
    "name": "ipython",
    "version": 3
   },
   "file_extension": ".py",
   "mimetype": "text/x-python",
   "name": "python",
   "nbconvert_exporter": "python",
   "pygments_lexer": "ipython3",
   "version": "3.12.4"
  }
 },
 "nbformat": 4,
 "nbformat_minor": 5
}
