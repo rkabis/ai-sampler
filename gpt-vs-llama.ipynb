{
 "cells": [
  {
   "cell_type": "code",
   "execution_count": null,
   "id": "a1a09752-0974-43e1-9a08-a72113d125a2",
   "metadata": {},
   "outputs": [],
   "source": [
    "from transformers import GPT4Model, GPT4Tokenizer\n",
    "import faiss\n",
    "import numpy as np\n",
    "\n",
    "# Load model and tokenizer\n",
    "tokenizer = GPT4Tokenizer.from_pretrained('gpt-4')\n",
    "model = GPT4Model.from_pretrained('gpt-4')\n",
    "\n",
    "# Setup FAISS index (example with dummy data)\n",
    "index = faiss.IndexFlatL2(128)\n",
    "data = np.random.random((100, 128)).astype('float32')\n",
    "index.add(data)\n",
    "\n",
    "def retrieve(query):\n",
    "    # Convert query to vector and retrieve from index\n",
    "    query_vector = np.random.random((1, 128)).astype('float32')  # Dummy vector\n",
    "    D, I = index.search(query_vector, 5)\n",
    "    return I\n",
    "\n",
    "def generate_response(query, retrieved_docs):\n",
    "    # Combine query with retrieved documents\n",
    "    augmented_query = query + \" \" + \" \".join(retrieved_docs)\n",
    "    inputs = tokenizer(augmented_query, return_tensors=\"pt\")\n",
    "    outputs = model.generate(**inputs)\n",
    "    response = tokenizer.decode(outputs[0], skip_special_tokens=True)\n",
    "    return response\n",
    "\n",
    "# Example usage\n",
    "query = \"What is the optimal number of packages I can include in the truck?\"\n",
    "retrieved_docs = retrieve(query)  # Dummy retrieval\n",
    "response = generate_response(query, retrieved_docs)\n",
    "print(response)\n"
   ]
  },
  {
   "cell_type": "code",
   "execution_count": null,
   "id": "7d4abe51-17fb-4ba9-9474-1a32f0565ef9",
   "metadata": {},
   "outputs": [],
   "source": [
    "from openai import OpenAI\n",
    "\n",
    "client = OpenAI(\n",
    "  api_key=''  # this is also the default, it can be omitted\n",
    ")\n",
    "\n",
    "completion = client.completions.create(model='curie')\n",
    "print(completion.choices[0].text)\n",
    "print(dict(completion).get('usage'))\n",
    "print(completion.model_dump_json(indent=2))"
   ]
  },
  {
   "cell_type": "code",
   "execution_count": null,
   "id": "8a10cb9c-4d68-4117-8a61-eed797b21376",
   "metadata": {},
   "outputs": [],
   "source": []
  }
 ],
 "metadata": {
  "kernelspec": {
   "display_name": "Python 3 (ipykernel)",
   "language": "python",
   "name": "python3"
  },
  "language_info": {
   "codemirror_mode": {
    "name": "ipython",
    "version": 3
   },
   "file_extension": ".py",
   "mimetype": "text/x-python",
   "name": "python",
   "nbconvert_exporter": "python",
   "pygments_lexer": "ipython3",
   "version": "3.12.4"
  }
 },
 "nbformat": 4,
 "nbformat_minor": 5
}
