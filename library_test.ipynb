{
 "cells": [
  {
   "cell_type": "code",
   "execution_count": null,
   "id": "dd85beb8-dda4-4b87-a710-32179611e428",
   "metadata": {},
   "outputs": [],
   "source": [
    "import os\n",
    "\n",
    "from dotenv import load_dotenv\n",
    "import pandas as pd\n",
    "from transformers import pipeline\n",
    "\n",
    "load_dotenv()\n",
    "\n",
    "OPENAI_API_KEY = os.getenv(\"OPENAI_API_KEY\")"
   ]
  },
  {
   "cell_type": "code",
   "execution_count": null,
   "id": "8a10cb9c-4d68-4117-8a61-eed797b21376",
   "metadata": {},
   "outputs": [],
   "source": [
    "from openai import OpenAI\n",
    "\n",
    "client = OpenAI(\n",
    "    api_key=OPENAI_API_KEY,\n",
    ")"
   ]
  },
  {
   "cell_type": "code",
   "execution_count": null,
   "id": "1af6d060-2034-4bc1-901b-567452f9031b",
   "metadata": {},
   "outputs": [],
   "source": [
    "MODEL = \"gpt-3.5-turbo\"\n",
    "response = client.chat.completions.create(\n",
    "    model=MODEL,\n",
    "    messages=[\n",
    "        {\"role\": \"system\", \"content\": \"You are a helpful assistant.\"},\n",
    "        {\"role\": \"user\", \"content\": \"Knock knock.\"},\n",
    "        {\"role\": \"assistant\", \"content\": \"Who's there?\"},\n",
    "        {\"role\": \"user\", \"content\": \"Orange.\"},\n",
    "    ],\n",
    "    temperature=0,\n",
    ")\n",
    "response"
   ]
  },
  {
   "cell_type": "code",
   "execution_count": null,
   "id": "5b782adf-6589-4665-be1a-d940be1ef869",
   "metadata": {},
   "outputs": [],
   "source": [
    "# Sample historical sales data (text format for simplicity)\n",
    "data = {\n",
    "    \"date\": [\"2024-01-01\", \"2024-01-02\", \"2024-01-03\", \"2024-01-04\", \"2024-01-05\"],\n",
    "    \"sales\": [\n",
    "        \"Sales of 100 units on 2024-01-01\",\n",
    "        \"Sales of 150 units on 2024-01-02\",\n",
    "        \"Sales of 200 units on 2024-01-03\",\n",
    "        \"Sales of 130 units on 2024-01-04\",\n",
    "        \"Sales of 170 units on 2024-01-05\",\n",
    "    ],\n",
    "}\n",
    "\n",
    "# Convert the data to a DataFrame\n",
    "df = pd.DataFrame(data)\n",
    "\n",
    "# Display the DataFrame\n",
    "print(\"Historical Sales Data:\")\n",
    "print(df)\n",
    "\n",
    "# Initialize the text generation pipeline with a pre-trained model\n",
    "text_generator = pipeline(\"text-generation\", model=\"openai-community/gpt2\", framework=\"pt\", device=0)\n",
    "\n",
    "# Generate a forecast for the next day\n",
    "prompt = \"Based on historical sales data, the expected sales for 2024-01-06 are\"\n",
    "generated_text = text_generator(prompt, truncation=True, max_length=50, num_return_sequences=1)\n",
    "\n",
    "# Print the generated forecast\n",
    "print(\"\\nGenerated Demand Forecast:\")\n",
    "print(generated_text[0][\"generated_text\"])"
   ]
  },
  {
   "cell_type": "code",
   "execution_count": null,
   "id": "f88bd489-e53a-4ab9-a564-d77ccbbd979b",
   "metadata": {},
   "outputs": [],
   "source": []
  }
 ],
 "metadata": {
  "kernelspec": {
   "display_name": "Python 3 (ipykernel)",
   "language": "python",
   "name": "python3"
  },
  "language_info": {
   "codemirror_mode": {
    "name": "ipython",
    "version": 3
   },
   "file_extension": ".py",
   "mimetype": "text/x-python",
   "name": "python",
   "nbconvert_exporter": "python",
   "pygments_lexer": "ipython3",
   "version": "3.12.4"
  }
 },
 "nbformat": 4,
 "nbformat_minor": 5
}
